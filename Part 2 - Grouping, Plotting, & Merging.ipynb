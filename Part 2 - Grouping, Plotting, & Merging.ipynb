{
  "nbformat": 4,
  "nbformat_minor": 0,
  "metadata": {
    "colab": {
      "name": "Copy of Part 2 - Grouping, Plotting, & Merging.ipynb",
      "version": "0.3.2",
      "provenance": [],
      "toc_visible": true,
      "include_colab_link": true
    },
    "language_info": {
      "codemirror_mode": {
        "name": "ipython",
        "version": 3
      },
      "file_extension": ".py",
      "mimetype": "text/x-python",
      "name": "python",
      "nbconvert_exporter": "python",
      "pygments_lexer": "ipython3",
      "version": "3.7.3"
    },
    "kernelspec": {
      "display_name": "Python 3",
      "language": "python",
      "name": "python3"
    }
  },
  "cells": [
    {
      "cell_type": "markdown",
      "metadata": {
        "id": "view-in-github",
        "colab_type": "text"
      },
      "source": [
        "<a href=\"https://colab.research.google.com/github/mkitti/pandas-workshop/blob/master/Part%202%20-%20Grouping%2C%20Plotting%2C%20%26%20Merging.ipynb\" target=\"_parent\"><img src=\"https://colab.research.google.com/assets/colab-badge.svg\" alt=\"Open In Colab\"/></a>"
      ]
    },
    {
      "cell_type": "markdown",
      "metadata": {
        "id": "35ijwJKXygWh",
        "colab_type": "text"
      },
      "source": [
        "## Grouping\n",
        "\n",
        "The pandas `groupby` function allows us to group our data on the values in a column or column to look at summary measures for records sharing the same values.\n",
        "\n",
        "For example, let's load the speed camera dataset again and ask which camera locations or days of the week have produced the most violations."
      ]
    },
    {
      "cell_type": "code",
      "metadata": {
        "id": "A-SYHO0SygWj",
        "colab_type": "code",
        "outputId": "577aaeab-dd2a-48ab-96c2-f1947aedf8d6",
        "colab": {
          "base_uri": "https://localhost:8080/",
          "height": 202
        }
      },
      "source": [
        "import pandas as pd\n",
        "df = pd.read_csv(\"https://raw.githubusercontent.com/nuitrcs/pandas-workshop/master/data/Speed_Camera_Violations.csv\")\n",
        "df.head()"
      ],
      "execution_count": 0,
      "outputs": [
        {
          "output_type": "execute_result",
          "data": {
            "text/html": [
              "<div>\n",
              "<style scoped>\n",
              "    .dataframe tbody tr th:only-of-type {\n",
              "        vertical-align: middle;\n",
              "    }\n",
              "\n",
              "    .dataframe tbody tr th {\n",
              "        vertical-align: top;\n",
              "    }\n",
              "\n",
              "    .dataframe thead th {\n",
              "        text-align: right;\n",
              "    }\n",
              "</style>\n",
              "<table border=\"1\" class=\"dataframe\">\n",
              "  <thead>\n",
              "    <tr style=\"text-align: right;\">\n",
              "      <th></th>\n",
              "      <th>ADDRESS</th>\n",
              "      <th>CAMERA ID</th>\n",
              "      <th>VIOLATION DATE</th>\n",
              "      <th>VIOLATIONS</th>\n",
              "      <th>X COORDINATE</th>\n",
              "      <th>Y COORDINATE</th>\n",
              "      <th>LATITUDE</th>\n",
              "      <th>LONGITUDE</th>\n",
              "      <th>LOCATION</th>\n",
              "    </tr>\n",
              "  </thead>\n",
              "  <tbody>\n",
              "    <tr>\n",
              "      <th>0</th>\n",
              "      <td>7738 S WESTERN</td>\n",
              "      <td>CHI065</td>\n",
              "      <td>07/08/2014</td>\n",
              "      <td>65</td>\n",
              "      <td>NaN</td>\n",
              "      <td>NaN</td>\n",
              "      <td>NaN</td>\n",
              "      <td>NaN</td>\n",
              "      <td>NaN</td>\n",
              "    </tr>\n",
              "    <tr>\n",
              "      <th>1</th>\n",
              "      <td>1111 N HUMBOLDT</td>\n",
              "      <td>CHI010</td>\n",
              "      <td>07/16/2014</td>\n",
              "      <td>56</td>\n",
              "      <td>NaN</td>\n",
              "      <td>NaN</td>\n",
              "      <td>NaN</td>\n",
              "      <td>NaN</td>\n",
              "      <td>NaN</td>\n",
              "    </tr>\n",
              "    <tr>\n",
              "      <th>2</th>\n",
              "      <td>5520 S WESTERN</td>\n",
              "      <td>CHI069</td>\n",
              "      <td>07/08/2014</td>\n",
              "      <td>10</td>\n",
              "      <td>NaN</td>\n",
              "      <td>NaN</td>\n",
              "      <td>NaN</td>\n",
              "      <td>NaN</td>\n",
              "      <td>NaN</td>\n",
              "    </tr>\n",
              "    <tr>\n",
              "      <th>3</th>\n",
              "      <td>1111 N HUMBOLDT</td>\n",
              "      <td>CHI010</td>\n",
              "      <td>07/26/2014</td>\n",
              "      <td>101</td>\n",
              "      <td>NaN</td>\n",
              "      <td>NaN</td>\n",
              "      <td>NaN</td>\n",
              "      <td>NaN</td>\n",
              "      <td>NaN</td>\n",
              "    </tr>\n",
              "    <tr>\n",
              "      <th>4</th>\n",
              "      <td>1111 N HUMBOLDT</td>\n",
              "      <td>CHI010</td>\n",
              "      <td>07/27/2014</td>\n",
              "      <td>92</td>\n",
              "      <td>NaN</td>\n",
              "      <td>NaN</td>\n",
              "      <td>NaN</td>\n",
              "      <td>NaN</td>\n",
              "      <td>NaN</td>\n",
              "    </tr>\n",
              "  </tbody>\n",
              "</table>\n",
              "</div>"
            ],
            "text/plain": [
              "           ADDRESS CAMERA ID VIOLATION DATE  ...  LATITUDE  LONGITUDE  LOCATION\n",
              "0   7738 S WESTERN    CHI065     07/08/2014  ...       NaN        NaN       NaN\n",
              "1  1111 N HUMBOLDT    CHI010     07/16/2014  ...       NaN        NaN       NaN\n",
              "2   5520 S WESTERN    CHI069     07/08/2014  ...       NaN        NaN       NaN\n",
              "3  1111 N HUMBOLDT    CHI010     07/26/2014  ...       NaN        NaN       NaN\n",
              "4  1111 N HUMBOLDT    CHI010     07/27/2014  ...       NaN        NaN       NaN\n",
              "\n",
              "[5 rows x 9 columns]"
            ]
          },
          "metadata": {
            "tags": []
          },
          "execution_count": 3
        }
      ]
    },
    {
      "cell_type": "markdown",
      "metadata": {
        "id": "1CrCSBrAygWm",
        "colab_type": "text"
      },
      "source": [
        "Now that the data is loaded, let's find the 10 locations with the most total violations recorded.\n",
        "\n",
        "To do this, we need to group by the ADDRESS column, then examine the VIOLATIONS column of the resulting grouped dataframe."
      ]
    },
    {
      "cell_type": "code",
      "metadata": {
        "id": "OeJgDAIWygWn",
        "colab_type": "code",
        "outputId": "c93d622b-5a6c-4894-9c1f-02e45bc80321",
        "colab": {
          "base_uri": "https://localhost:8080/",
          "height": 386
        }
      },
      "source": [
        "# first let's group by address and look at descriptive statistics for the first 10 records\n",
        "df.groupby([\"ADDRESS\"])[\"VIOLATIONS\"].describe().head(10)"
      ],
      "execution_count": 0,
      "outputs": [
        {
          "output_type": "execute_result",
          "data": {
            "text/html": [
              "<div>\n",
              "<style scoped>\n",
              "    .dataframe tbody tr th:only-of-type {\n",
              "        vertical-align: middle;\n",
              "    }\n",
              "\n",
              "    .dataframe tbody tr th {\n",
              "        vertical-align: top;\n",
              "    }\n",
              "\n",
              "    .dataframe thead th {\n",
              "        text-align: right;\n",
              "    }\n",
              "</style>\n",
              "<table border=\"1\" class=\"dataframe\">\n",
              "  <thead>\n",
              "    <tr style=\"text-align: right;\">\n",
              "      <th></th>\n",
              "      <th>count</th>\n",
              "      <th>mean</th>\n",
              "      <th>std</th>\n",
              "      <th>min</th>\n",
              "      <th>25%</th>\n",
              "      <th>50%</th>\n",
              "      <th>75%</th>\n",
              "      <th>max</th>\n",
              "    </tr>\n",
              "    <tr>\n",
              "      <th>ADDRESS</th>\n",
              "      <th></th>\n",
              "      <th></th>\n",
              "      <th></th>\n",
              "      <th></th>\n",
              "      <th></th>\n",
              "      <th></th>\n",
              "      <th></th>\n",
              "      <th></th>\n",
              "    </tr>\n",
              "  </thead>\n",
              "  <tbody>\n",
              "    <tr>\n",
              "      <th>10318 S INDIANAPOLIS</th>\n",
              "      <td>1084.0</td>\n",
              "      <td>99.974170</td>\n",
              "      <td>39.412342</td>\n",
              "      <td>4.0</td>\n",
              "      <td>72.00</td>\n",
              "      <td>96.0</td>\n",
              "      <td>120.25</td>\n",
              "      <td>259.0</td>\n",
              "    </tr>\n",
              "    <tr>\n",
              "      <th>1110 S PULASKI RD</th>\n",
              "      <td>499.0</td>\n",
              "      <td>22.412826</td>\n",
              "      <td>15.078174</td>\n",
              "      <td>1.0</td>\n",
              "      <td>11.00</td>\n",
              "      <td>18.0</td>\n",
              "      <td>31.00</td>\n",
              "      <td>83.0</td>\n",
              "    </tr>\n",
              "    <tr>\n",
              "      <th>1111 N HUMBOLDT</th>\n",
              "      <td>1096.0</td>\n",
              "      <td>58.250000</td>\n",
              "      <td>18.067744</td>\n",
              "      <td>6.0</td>\n",
              "      <td>46.00</td>\n",
              "      <td>57.0</td>\n",
              "      <td>70.00</td>\n",
              "      <td>117.0</td>\n",
              "    </tr>\n",
              "    <tr>\n",
              "      <th>11144 S VINCENNES</th>\n",
              "      <td>526.0</td>\n",
              "      <td>19.612167</td>\n",
              "      <td>10.058579</td>\n",
              "      <td>1.0</td>\n",
              "      <td>12.25</td>\n",
              "      <td>18.0</td>\n",
              "      <td>25.00</td>\n",
              "      <td>75.0</td>\n",
              "    </tr>\n",
              "    <tr>\n",
              "      <th>11153 S VINCENNES</th>\n",
              "      <td>517.0</td>\n",
              "      <td>9.698259</td>\n",
              "      <td>5.182134</td>\n",
              "      <td>1.0</td>\n",
              "      <td>6.00</td>\n",
              "      <td>9.0</td>\n",
              "      <td>13.00</td>\n",
              "      <td>31.0</td>\n",
              "    </tr>\n",
              "    <tr>\n",
              "      <th>1117 S PULASKI RD</th>\n",
              "      <td>492.0</td>\n",
              "      <td>19.483740</td>\n",
              "      <td>12.954320</td>\n",
              "      <td>1.0</td>\n",
              "      <td>10.00</td>\n",
              "      <td>17.0</td>\n",
              "      <td>27.00</td>\n",
              "      <td>61.0</td>\n",
              "    </tr>\n",
              "    <tr>\n",
              "      <th>1142 W IRVING PARK</th>\n",
              "      <td>1091.0</td>\n",
              "      <td>84.210816</td>\n",
              "      <td>29.672455</td>\n",
              "      <td>1.0</td>\n",
              "      <td>64.00</td>\n",
              "      <td>81.0</td>\n",
              "      <td>101.00</td>\n",
              "      <td>248.0</td>\n",
              "    </tr>\n",
              "    <tr>\n",
              "      <th>115 N OGDEN</th>\n",
              "      <td>1094.0</td>\n",
              "      <td>41.311700</td>\n",
              "      <td>35.887579</td>\n",
              "      <td>1.0</td>\n",
              "      <td>13.00</td>\n",
              "      <td>28.0</td>\n",
              "      <td>61.00</td>\n",
              "      <td>197.0</td>\n",
              "    </tr>\n",
              "    <tr>\n",
              "      <th>1226 N WESTERN AVE</th>\n",
              "      <td>531.0</td>\n",
              "      <td>18.617702</td>\n",
              "      <td>15.435526</td>\n",
              "      <td>1.0</td>\n",
              "      <td>6.00</td>\n",
              "      <td>14.0</td>\n",
              "      <td>28.00</td>\n",
              "      <td>88.0</td>\n",
              "    </tr>\n",
              "    <tr>\n",
              "      <th>1229 N WESTERN AVE</th>\n",
              "      <td>530.0</td>\n",
              "      <td>39.500000</td>\n",
              "      <td>21.222848</td>\n",
              "      <td>3.0</td>\n",
              "      <td>24.00</td>\n",
              "      <td>34.0</td>\n",
              "      <td>51.75</td>\n",
              "      <td>119.0</td>\n",
              "    </tr>\n",
              "  </tbody>\n",
              "</table>\n",
              "</div>"
            ],
            "text/plain": [
              "                       count       mean        std  ...   50%     75%    max\n",
              "ADDRESS                                             ...                     \n",
              "10318 S INDIANAPOLIS  1084.0  99.974170  39.412342  ...  96.0  120.25  259.0\n",
              "1110 S PULASKI RD      499.0  22.412826  15.078174  ...  18.0   31.00   83.0\n",
              "1111 N HUMBOLDT       1096.0  58.250000  18.067744  ...  57.0   70.00  117.0\n",
              "11144 S VINCENNES      526.0  19.612167  10.058579  ...  18.0   25.00   75.0\n",
              "11153 S VINCENNES      517.0   9.698259   5.182134  ...   9.0   13.00   31.0\n",
              "1117 S PULASKI RD      492.0  19.483740  12.954320  ...  17.0   27.00   61.0\n",
              "1142 W IRVING PARK    1091.0  84.210816  29.672455  ...  81.0  101.00  248.0\n",
              "115 N OGDEN           1094.0  41.311700  35.887579  ...  28.0   61.00  197.0\n",
              "1226 N WESTERN AVE     531.0  18.617702  15.435526  ...  14.0   28.00   88.0\n",
              "1229 N WESTERN AVE     530.0  39.500000  21.222848  ...  34.0   51.75  119.0\n",
              "\n",
              "[10 rows x 8 columns]"
            ]
          },
          "metadata": {
            "tags": []
          },
          "execution_count": 4
        }
      ]
    },
    {
      "cell_type": "markdown",
      "metadata": {
        "id": "gUHruDpKygWp",
        "colab_type": "text"
      },
      "source": [
        "The above records aren't sorted in any meaningful way, but the first thing to note is that the Index is no longer just an integer, it is now the Address. This is because the `groupby` method returns a special object with a new index made up of the \n",
        "values of the column being grouped on.\n",
        "\n",
        "We can still use the `loc` indexer with this new grouped object to, for example, find the count for a given address:"
      ]
    },
    {
      "cell_type": "code",
      "metadata": {
        "id": "Ja2BVhUYygWq",
        "colab_type": "code",
        "outputId": "ac71b62a-7ae5-4f09-e618-0bde9e094502",
        "colab": {
          "base_uri": "https://localhost:8080/",
          "height": 35
        }
      },
      "source": [
        "# `count` returns the number of rows for this address, not the total violation count.\n",
        "# IE this tells us the number of observation (in case of our example data, Speed_Camera_Violations,\n",
        "# this corresponds to the number of different days with at least one violation).\n",
        "df.groupby([\"ADDRESS\"])[\"VIOLATIONS\"].count().loc[\"19 W CHICAGO AVE\"]"
      ],
      "execution_count": 0,
      "outputs": [
        {
          "output_type": "execute_result",
          "data": {
            "text/plain": [
              "432"
            ]
          },
          "metadata": {
            "tags": []
          },
          "execution_count": 5
        }
      ]
    },
    {
      "cell_type": "code",
      "metadata": {
        "id": "1fULygWVygWs",
        "colab_type": "code",
        "outputId": "ab322100-6600-4f40-b4ba-c4f6664b9573",
        "colab": {
          "base_uri": "https://localhost:8080/",
          "height": 35
        }
      },
      "source": [
        "# to get the total violation count, we want the `sum` method:\n",
        "df.groupby([\"ADDRESS\"])[\"VIOLATIONS\"].sum().loc[\"19 W CHICAGO AVE\"]"
      ],
      "execution_count": 0,
      "outputs": [
        {
          "output_type": "execute_result",
          "data": {
            "text/plain": [
              "1618"
            ]
          },
          "metadata": {
            "tags": []
          },
          "execution_count": 6
        }
      ]
    },
    {
      "cell_type": "code",
      "metadata": {
        "id": "plhK-1nTygWv",
        "colab_type": "code",
        "outputId": "452d608a-c38d-45c1-8e2c-ec2b7562b443",
        "colab": {
          "base_uri": "https://localhost:8080/",
          "height": 225
        }
      },
      "source": [
        "# Now let's get the top 10 camera locations by total violation count:\n",
        "df.groupby([\"ADDRESS\"])[\"VIOLATIONS\"].sum().sort_values(ascending=False).head(10)"
      ],
      "execution_count": 0,
      "outputs": [
        {
          "output_type": "execute_result",
          "data": {
            "text/plain": [
              "ADDRESS\n",
              "4909 N CICERO AVE       220704\n",
              "445 W 127TH             169337\n",
              "2900 W OGDEN            139183\n",
              "4124 W FOSTER AVE       127071\n",
              "10318 S INDIANAPOLIS    108372\n",
              "2705 W IRVING PARK      107599\n",
              "1142 W IRVING PARK       91874\n",
              "536 E MORGAN DR          82331\n",
              "5816 W JACKSON           80174\n",
              "4831 W LAWRENCE AVE      69538\n",
              "Name: VIOLATIONS, dtype: int64"
            ]
          },
          "metadata": {
            "tags": []
          },
          "execution_count": 7
        }
      ]
    },
    {
      "cell_type": "markdown",
      "metadata": {
        "id": "xv4mqknLygWx",
        "colab_type": "text"
      },
      "source": [
        "It's possible that some locations just have more observations than others, so a more meaningful measure is probably the mean violation count per observation. To get this we just need to use the `mean` function rather than `sum`."
      ]
    },
    {
      "cell_type": "code",
      "metadata": {
        "id": "pihrhx6hygWy",
        "colab_type": "code",
        "outputId": "646b0612-a8a9-4dff-bf43-8d8913d2a0a5",
        "colab": {
          "base_uri": "https://localhost:8080/",
          "height": 225
        }
      },
      "source": [
        "df.groupby([\"ADDRESS\"])[\"VIOLATIONS\"].mean().sort_values(ascending=False).head(10)"
      ],
      "execution_count": 0,
      "outputs": [
        {
          "output_type": "execute_result",
          "data": {
            "text/plain": [
              "ADDRESS\n",
              "4909 N CICERO AVE       226.595483\n",
              "445 W 127TH             154.645662\n",
              "2900 W OGDEN            126.876026\n",
              "4124 W FOSTER AVE       120.332386\n",
              "10318 S INDIANAPOLIS     99.974170\n",
              "2705 W IRVING PARK       99.078269\n",
              "215 E 63RD ST            84.689008\n",
              "1142 W IRVING PARK       84.210816\n",
              "536 E MORGAN DR          75.188128\n",
              "2549 W ADDISON           73.668488\n",
              "Name: VIOLATIONS, dtype: float64"
            ]
          },
          "metadata": {
            "tags": []
          },
          "execution_count": 8
        }
      ]
    },
    {
      "cell_type": "markdown",
      "metadata": {
        "id": "ZheiAu7bygW0",
        "colab_type": "text"
      },
      "source": [
        "How about days of the week? *When* are people most likely to be caught speeding?\n",
        "\n",
        "The simplest way to do this is to create a new weekday column and group on that."
      ]
    },
    {
      "cell_type": "code",
      "metadata": {
        "id": "LmXfeN1_ygW0",
        "colab_type": "code",
        "outputId": "c97e5799-d762-4dac-90d7-7dc587914a42",
        "colab": {
          "base_uri": "https://localhost:8080/",
          "height": 121
        }
      },
      "source": [
        "# datetime series have a special `dt` property that exposes the date/time-specific functionality.\n",
        "# In this case, dayofweek is a 0-based index where 0 = Monday, 6 = Sunday.\n",
        "df[\"VIOLATION DATE\"] = pd.to_datetime(df[\"VIOLATION DATE\"], format=\"%m/%d/%Y\")\n",
        "df[\"VIOLATION DATE\"].dt.dayofweek.head()"
      ],
      "execution_count": 0,
      "outputs": [
        {
          "output_type": "execute_result",
          "data": {
            "text/plain": [
              "0    1\n",
              "1    2\n",
              "2    1\n",
              "3    5\n",
              "4    6\n",
              "Name: VIOLATION DATE, dtype: int64"
            ]
          },
          "metadata": {
            "tags": []
          },
          "execution_count": 9
        }
      ]
    },
    {
      "cell_type": "code",
      "metadata": {
        "id": "psS46O3UygW3",
        "colab_type": "code",
        "outputId": "3625eca3-e1f9-400c-d2ff-c23301109c3f",
        "colab": {
          "base_uri": "https://localhost:8080/",
          "height": 173
        }
      },
      "source": [
        "df[\"DAY OF WEEK\"] = df[\"VIOLATION DATE\"].dt.dayofweek\n",
        "df.groupby([\"DAY OF WEEK\"])[\"VIOLATIONS\"].mean()"
      ],
      "execution_count": 0,
      "outputs": [
        {
          "output_type": "execute_result",
          "data": {
            "text/plain": [
              "DAY OF WEEK\n",
              "0    27.446626\n",
              "1    26.745172\n",
              "2    27.110899\n",
              "3    28.371709\n",
              "4    30.219523\n",
              "5    42.380211\n",
              "6    41.233922\n",
              "Name: VIOLATIONS, dtype: float64"
            ]
          },
          "metadata": {
            "tags": []
          },
          "execution_count": 10
        }
      ]
    },
    {
      "cell_type": "markdown",
      "metadata": {
        "id": "8xKIrcgqygW5",
        "colab_type": "text"
      },
      "source": [
        "## Plotting\n",
        "\n",
        "It's not easy to understand at a glance the distribution of speeding violations by day of the week above, so let's produce a simple plot to visualize and help understand it.\n",
        "\n",
        "Pandas has some basic plotting functions, but I prefer how it interacts with a different visualization package called Seaborn\n",
        "\n",
        "If you do not have seaborn, you can use pip to install it pip install seaborn"
      ]
    },
    {
      "cell_type": "code",
      "metadata": {
        "id": "K17Zn-JkygW6",
        "colab_type": "code",
        "colab": {}
      },
      "source": [
        "import seaborn as sns #The cannonical way to import seaborn"
      ],
      "execution_count": 0,
      "outputs": []
    },
    {
      "cell_type": "code",
      "metadata": {
        "id": "dcqdi4UUygW9",
        "colab_type": "code",
        "outputId": "6b19c968-338d-4672-b39d-ed69ec483f9c",
        "colab": {
          "base_uri": "https://localhost:8080/",
          "height": 301
        }
      },
      "source": [
        "# The beauty of pandas with seaborn is how cleanly they interact with eachother\n",
        "\n",
        "sns.lineplot(x = 'DAY OF WEEK', y = 'VIOLATIONS', data = df)\n"
      ],
      "execution_count": 0,
      "outputs": [
        {
          "output_type": "execute_result",
          "data": {
            "text/plain": [
              "<matplotlib.axes._subplots.AxesSubplot at 0x7fe38fa2d9e8>"
            ]
          },
          "metadata": {
            "tags": []
          },
          "execution_count": 12
        },
        {
          "output_type": "display_data",
          "data": {
            "image/png": "[encoded data removed]",
            "text/plain": [
              "<Figure size 432x288 with 1 Axes>"
            ]
          },
          "metadata": {
            "tags": []
          }
        }
      ]
    },
    {
      "cell_type": "markdown",
      "metadata": {
        "id": "X4Uc2lX3ygXA",
        "colab_type": "text"
      },
      "source": [
        "What if time of year is a factor here? Seaborn has a wonderful feature called hue, which allows for a quick comparison of different types of data in one graph"
      ]
    },
    {
      "cell_type": "code",
      "metadata": {
        "id": "WOtV0kk1ygXB",
        "colab_type": "code",
        "outputId": "b2abb8fc-d166-4ccd-f728-8919ea4640c1",
        "colab": {
          "base_uri": "https://localhost:8080/",
          "height": 301
        }
      },
      "source": [
        "#first lets create a month column\n",
        "df['MONTH'] = df['VIOLATION DATE'].dt.month\n",
        "\n",
        "#then lets recreate that same plot but with the months separated out\n",
        "sns.lineplot(x = 'DAY OF WEEK', y = 'VIOLATIONS', hue = 'MONTH', data = df)"
      ],
      "execution_count": 0,
      "outputs": [
        {
          "output_type": "execute_result",
          "data": {
            "text/plain": [
              "<matplotlib.axes._subplots.AxesSubplot at 0x7fe38f97aa58>"
            ]
          },
          "metadata": {
            "tags": []
          },
          "execution_count": 13
        },
        {
          "output_type": "display_data",
          "data": {
            "image/png": "[encoded data removed]",
            "text/plain": [
              "<Figure size 432x288 with 1 Axes>"
            ]
          },
          "metadata": {
            "tags": []
          }
        }
      ]
    },
    {
      "cell_type": "code",
      "metadata": {
        "id": "hQe8ORqiygXD",
        "colab_type": "code",
        "outputId": "6fc7049c-d3fe-4487-e3ea-f66760621392",
        "colab": {
          "base_uri": "https://localhost:8080/",
          "height": 301
        }
      },
      "source": [
        "#thats a little chaotic, lets try flipping the hue with the x axis\n",
        "\n",
        "sns.lineplot(x = 'MONTH', y = 'VIOLATIONS', hue = 'DAY OF WEEK', data = df)"
      ],
      "execution_count": 0,
      "outputs": [
        {
          "output_type": "execute_result",
          "data": {
            "text/plain": [
              "<matplotlib.axes._subplots.AxesSubplot at 0x7fe38d041390>"
            ]
          },
          "metadata": {
            "tags": []
          },
          "execution_count": 14
        },
        {
          "output_type": "display_data",
          "data": {
            "image/png": "[encoded data removed]",
            "text/plain": [
              "<Figure size 432x288 with 1 Axes>"
            ]
          },
          "metadata": {
            "tags": []
          }
        }
      ]
    },
    {
      "cell_type": "markdown",
      "metadata": {
        "id": "FQP4lIhZygXG",
        "colab_type": "text"
      },
      "source": [
        "We can continue to make this graph prettier, but I will save that for the data visualization course, this is enough to see 2 interesting trents.  First is that violations are much more likely to occur on saturday and sunday, regardless of the time of year.  The second is that that violations are much more likely to occur during the summer months."
      ]
    },
    {
      "cell_type": "markdown",
      "metadata": {
        "id": "pzniHD7aygXH",
        "colab_type": "text"
      },
      "source": [
        "## Combining DataFrames\n",
        "\n",
        "Often you will need to combine data from multiple data sets together. There are three types of combinations in pandas: concatenations and merges (aka joins).\n",
        "\n",
        "**Concatenating** means taking multiple DataFrame objects and appending their rows together to make a new DataFrame. In general you will do this when your datasets contain the same columns and you are combining observations of the same type together into one dataset that contains all the rows from all the datasets.\n",
        "\n",
        "**Merging** is joining DataFrames together SQL-style by using common values. This is useful when you have multiple datasets with common keys and you want to combine them into one dataset that contains columns from all the datasets being merged."
      ]
    },
    {
      "cell_type": "code",
      "metadata": {
        "id": "JVm8pRvLygXH",
        "colab_type": "code",
        "outputId": "f49299e2-09ff-4d0f-ee8a-75f41ad7dcc9",
        "colab": {
          "base_uri": "https://localhost:8080/",
          "height": 468
        }
      },
      "source": [
        "# Concatenation example\n",
        "df1 = pd.DataFrame({'Site': [1, 2, 3],\n",
        "                    'Observed Value': [8.1, 5.5, 6.9]})\n",
        "\n",
        "df2 = pd.DataFrame({'Site': [7, 8, 9],\n",
        "                    'Observed Value': [10.5, 11.5, 12.0]})\n",
        "\n",
        "print(\"df1: \")\n",
        "print(df1)\n",
        "print()\n",
        "print(\"df2: \")\n",
        "print(df2)\n",
        "print()\n",
        "print(\"concatenated along rows: \")\n",
        "print(pd.concat([df1, df2]))\n",
        "print()\n",
        "print(\"concatenated along columns: \")\n",
        "print(pd.concat([df1, df2], axis = 1))\n"
      ],
      "execution_count": 0,
      "outputs": [
        {
          "output_type": "stream",
          "text": [
            "df1: \n",
            "   Site  Observed Value\n",
            "0     1             8.1\n",
            "1     2             5.5\n",
            "2     3             6.9\n",
            "\n",
            "df2: \n",
            "   Site  Observed Value\n",
            "0     7            10.5\n",
            "1     8            11.5\n",
            "2     9            12.0\n",
            "\n",
            "concatenated along rows: \n",
            "   Site  Observed Value\n",
            "0     1             8.1\n",
            "1     2             5.5\n",
            "2     3             6.9\n",
            "0     7            10.5\n",
            "1     8            11.5\n",
            "2     9            12.0\n",
            "\n",
            "concatenated along columns: \n",
            "   Site  Observed Value  Site  Observed Value\n",
            "0     1             8.1     7            10.5\n",
            "1     2             5.5     8            11.5\n",
            "2     3             6.9     9            12.0\n"
          ],
          "name": "stdout"
        }
      ]
    },
    {
      "cell_type": "code",
      "metadata": {
        "id": "THm2cLI7ygXJ",
        "colab_type": "code",
        "outputId": "8265f6d7-c3a7-402d-a54f-7e1eafe0f60c",
        "colab": {
          "base_uri": "https://localhost:8080/",
          "height": 329
        }
      },
      "source": [
        "# Merge example\n",
        "df1 = pd.DataFrame({'Site': [3, 1, 2],\n",
        "                    'Observed Value': [8.1, 5.5, 6.9]})\n",
        "\n",
        "df2 = pd.DataFrame({'Site': [1, 2, 3, 4],\n",
        "                    'Temperature': [27.1, 18.2, 29.8, 30.4]})\n",
        "\n",
        "print(\"df1: \")\n",
        "print(df1)\n",
        "print()\n",
        "print(\"df2: \")\n",
        "print(df2)\n",
        "print()\n",
        "print(\"merged: \")\n",
        "print(pd.merge(df1, df2))"
      ],
      "execution_count": 0,
      "outputs": [
        {
          "output_type": "stream",
          "text": [
            "df1: \n",
            "   Site  Observed Value\n",
            "0     3             8.1\n",
            "1     1             5.5\n",
            "2     2             6.9\n",
            "\n",
            "df2: \n",
            "   Site  Temperature\n",
            "0     1         27.1\n",
            "1     2         18.2\n",
            "2     3         29.8\n",
            "3     4         30.4\n",
            "\n",
            "merged: \n",
            "   Site  Observed Value  Temperature\n",
            "0     3             8.1         29.8\n",
            "1     1             5.5         27.1\n",
            "2     2             6.9         18.2\n"
          ],
          "name": "stdout"
        }
      ]
    },
    {
      "cell_type": "code",
      "metadata": {
        "id": "40sDEiiCygXM",
        "colab_type": "code",
        "outputId": "bd9fb1d4-8e6d-4f76-87d1-d4a5d9c4ad02",
        "colab": {
          "base_uri": "https://localhost:8080/",
          "height": 347
        }
      },
      "source": [
        "print(\"df1: \")\n",
        "print(df1)\n",
        "print()\n",
        "print(\"df2: \")\n",
        "print(df2)\n",
        "print()\n",
        "print(\"merged: \")\n",
        "print(pd.merge(df1, df2, how = 'outer'))"
      ],
      "execution_count": 0,
      "outputs": [
        {
          "output_type": "stream",
          "text": [
            "df1: \n",
            "   Site  Observed Value\n",
            "0     3             8.1\n",
            "1     1             5.5\n",
            "2     2             6.9\n",
            "\n",
            "df2: \n",
            "   Site  Temperature\n",
            "0     1         27.1\n",
            "1     2         18.2\n",
            "2     3         29.8\n",
            "3     4         30.4\n",
            "\n",
            "merged: \n",
            "   Site  Observed Value  Temperature\n",
            "0     3             8.1         29.8\n",
            "1     1             5.5         27.1\n",
            "2     2             6.9         18.2\n",
            "3     4             NaN         30.4\n"
          ],
          "name": "stdout"
        }
      ]
    },
    {
      "cell_type": "markdown",
      "metadata": {
        "id": "oO9XvWb3ygXO",
        "colab_type": "text"
      },
      "source": [
        "## Mapping and Applying\n",
        "\n",
        "As we have already seen, there are some basic ways to create a new column based on existing columns.  But what if we have a more complicated function? For that, pandas provides the `map` and the `apply` functions"
      ]
    },
    {
      "cell_type": "code",
      "metadata": {
        "id": "OSOXNbsKygXO",
        "colab_type": "code",
        "outputId": "69892206-b703-4271-8ab1-474a6d914aaf",
        "colab": {
          "base_uri": "https://localhost:8080/",
          "height": 202
        }
      },
      "source": [
        "#Mapping is commonly used to apply a dictionary of values to a column. \n",
        "#for instance lets take our lakes dataframe from before\n",
        "\n",
        "\n",
        "lakes_data = [['erie', 64, 19],\n",
        "            ['huron', 229, 59],\n",
        "            ['michigan', 281, 85],\n",
        "            ['ontario', 244, 86],\n",
        "            ['superior', 406, 149]]\n",
        "\n",
        "lakes = pd.DataFrame(lakes_data, columns = ['lake', 'Max Depth (m)', 'Avg Depth (m)'])\n",
        "lakes"
      ],
      "execution_count": 0,
      "outputs": [
        {
          "output_type": "execute_result",
          "data": {
            "text/html": [
              "<div>\n",
              "<style scoped>\n",
              "    .dataframe tbody tr th:only-of-type {\n",
              "        vertical-align: middle;\n",
              "    }\n",
              "\n",
              "    .dataframe tbody tr th {\n",
              "        vertical-align: top;\n",
              "    }\n",
              "\n",
              "    .dataframe thead th {\n",
              "        text-align: right;\n",
              "    }\n",
              "</style>\n",
              "<table border=\"1\" class=\"dataframe\">\n",
              "  <thead>\n",
              "    <tr style=\"text-align: right;\">\n",
              "      <th></th>\n",
              "      <th>lake</th>\n",
              "      <th>Max Depth (m)</th>\n",
              "      <th>Avg Depth (m)</th>\n",
              "    </tr>\n",
              "  </thead>\n",
              "  <tbody>\n",
              "    <tr>\n",
              "      <th>0</th>\n",
              "      <td>erie</td>\n",
              "      <td>64</td>\n",
              "      <td>19</td>\n",
              "    </tr>\n",
              "    <tr>\n",
              "      <th>1</th>\n",
              "      <td>huron</td>\n",
              "      <td>229</td>\n",
              "      <td>59</td>\n",
              "    </tr>\n",
              "    <tr>\n",
              "      <th>2</th>\n",
              "      <td>michigan</td>\n",
              "      <td>281</td>\n",
              "      <td>85</td>\n",
              "    </tr>\n",
              "    <tr>\n",
              "      <th>3</th>\n",
              "      <td>ontario</td>\n",
              "      <td>244</td>\n",
              "      <td>86</td>\n",
              "    </tr>\n",
              "    <tr>\n",
              "      <th>4</th>\n",
              "      <td>superior</td>\n",
              "      <td>406</td>\n",
              "      <td>149</td>\n",
              "    </tr>\n",
              "  </tbody>\n",
              "</table>\n",
              "</div>"
            ],
            "text/plain": [
              "       lake  Max Depth (m)  Avg Depth (m)\n",
              "0      erie             64             19\n",
              "1     huron            229             59\n",
              "2  michigan            281             85\n",
              "3   ontario            244             86\n",
              "4  superior            406            149"
            ]
          },
          "metadata": {
            "tags": []
          },
          "execution_count": 18
        }
      ]
    },
    {
      "cell_type": "code",
      "metadata": {
        "id": "UjJUmbl4ygXR",
        "colab_type": "code",
        "outputId": "6da5ac58-bc6f-4883-d282-c2d2ba8d6f1f",
        "colab": {
          "base_uri": "https://localhost:8080/",
          "height": 202
        }
      },
      "source": [
        "#lets say I want to shorten the lake names\n",
        "\n",
        "short_lake_dict = {'erie': 'ER',\n",
        "                  'huron': 'HUR',\n",
        "                  'michigan': 'MIC',\n",
        "                  'ontario': 'ONT',\n",
        "                  'superior': 'SUP'}\n",
        "\n",
        "lakes.lake = lakes.lake.map(short_lake_dict)\n",
        "lakes"
      ],
      "execution_count": 0,
      "outputs": [
        {
          "output_type": "execute_result",
          "data": {
            "text/html": [
              "<div>\n",
              "<style scoped>\n",
              "    .dataframe tbody tr th:only-of-type {\n",
              "        vertical-align: middle;\n",
              "    }\n",
              "\n",
              "    .dataframe tbody tr th {\n",
              "        vertical-align: top;\n",
              "    }\n",
              "\n",
              "    .dataframe thead th {\n",
              "        text-align: right;\n",
              "    }\n",
              "</style>\n",
              "<table border=\"1\" class=\"dataframe\">\n",
              "  <thead>\n",
              "    <tr style=\"text-align: right;\">\n",
              "      <th></th>\n",
              "      <th>lake</th>\n",
              "      <th>Max Depth (m)</th>\n",
              "      <th>Avg Depth (m)</th>\n",
              "    </tr>\n",
              "  </thead>\n",
              "  <tbody>\n",
              "    <tr>\n",
              "      <th>0</th>\n",
              "      <td>ER</td>\n",
              "      <td>64</td>\n",
              "      <td>19</td>\n",
              "    </tr>\n",
              "    <tr>\n",
              "      <th>1</th>\n",
              "      <td>HUR</td>\n",
              "      <td>229</td>\n",
              "      <td>59</td>\n",
              "    </tr>\n",
              "    <tr>\n",
              "      <th>2</th>\n",
              "      <td>MIC</td>\n",
              "      <td>281</td>\n",
              "      <td>85</td>\n",
              "    </tr>\n",
              "    <tr>\n",
              "      <th>3</th>\n",
              "      <td>ONT</td>\n",
              "      <td>244</td>\n",
              "      <td>86</td>\n",
              "    </tr>\n",
              "    <tr>\n",
              "      <th>4</th>\n",
              "      <td>SUP</td>\n",
              "      <td>406</td>\n",
              "      <td>149</td>\n",
              "    </tr>\n",
              "  </tbody>\n",
              "</table>\n",
              "</div>"
            ],
            "text/plain": [
              "  lake  Max Depth (m)  Avg Depth (m)\n",
              "0   ER             64             19\n",
              "1  HUR            229             59\n",
              "2  MIC            281             85\n",
              "3  ONT            244             86\n",
              "4  SUP            406            149"
            ]
          },
          "metadata": {
            "tags": []
          },
          "execution_count": 19
        }
      ]
    },
    {
      "cell_type": "markdown",
      "metadata": {
        "id": "M8pD31LDygXU",
        "colab_type": "text"
      },
      "source": [
        "But what if you want to do something more complicated than a dictionary? that is where the `apply` function comes into play."
      ]
    },
    {
      "cell_type": "code",
      "metadata": {
        "id": "mf4sRytlygXV",
        "colab_type": "code",
        "outputId": "952ed67c-863e-4b1e-f33e-cddc0881fe24",
        "colab": {
          "base_uri": "https://localhost:8080/",
          "height": 202
        }
      },
      "source": [
        "#first lets create a fake function to apply to our dataframe\n",
        "#lets say on some lakes we care about the average depth, while for others we care about max depth \n",
        "def lake_specific_stats(lake, m, a):\n",
        "    if lake in ['ER', 'MIC']:\n",
        "        return m\n",
        "    else:\n",
        "        return a\n",
        "    \n",
        "#we will want to make a new column that captures the data (average or max depth) that we care about\n",
        "\n",
        "lakes['max/ave'] = lakes.apply(lambda x: lake_specific_stats(x.lake, x['Max Depth (m)'], x['Avg Depth (m)']), axis = 1)\n",
        "lakes\n"
      ],
      "execution_count": 0,
      "outputs": [
        {
          "output_type": "execute_result",
          "data": {
            "text/html": [
              "<div>\n",
              "<style scoped>\n",
              "    .dataframe tbody tr th:only-of-type {\n",
              "        vertical-align: middle;\n",
              "    }\n",
              "\n",
              "    .dataframe tbody tr th {\n",
              "        vertical-align: top;\n",
              "    }\n",
              "\n",
              "    .dataframe thead th {\n",
              "        text-align: right;\n",
              "    }\n",
              "</style>\n",
              "<table border=\"1\" class=\"dataframe\">\n",
              "  <thead>\n",
              "    <tr style=\"text-align: right;\">\n",
              "      <th></th>\n",
              "      <th>lake</th>\n",
              "      <th>Max Depth (m)</th>\n",
              "      <th>Avg Depth (m)</th>\n",
              "      <th>max/ave</th>\n",
              "    </tr>\n",
              "  </thead>\n",
              "  <tbody>\n",
              "    <tr>\n",
              "      <th>0</th>\n",
              "      <td>ER</td>\n",
              "      <td>64</td>\n",
              "      <td>19</td>\n",
              "      <td>64</td>\n",
              "    </tr>\n",
              "    <tr>\n",
              "      <th>1</th>\n",
              "      <td>HUR</td>\n",
              "      <td>229</td>\n",
              "      <td>59</td>\n",
              "      <td>59</td>\n",
              "    </tr>\n",
              "    <tr>\n",
              "      <th>2</th>\n",
              "      <td>MIC</td>\n",
              "      <td>281</td>\n",
              "      <td>85</td>\n",
              "      <td>281</td>\n",
              "    </tr>\n",
              "    <tr>\n",
              "      <th>3</th>\n",
              "      <td>ONT</td>\n",
              "      <td>244</td>\n",
              "      <td>86</td>\n",
              "      <td>86</td>\n",
              "    </tr>\n",
              "    <tr>\n",
              "      <th>4</th>\n",
              "      <td>SUP</td>\n",
              "      <td>406</td>\n",
              "      <td>149</td>\n",
              "      <td>149</td>\n",
              "    </tr>\n",
              "  </tbody>\n",
              "</table>\n",
              "</div>"
            ],
            "text/plain": [
              "  lake  Max Depth (m)  Avg Depth (m)  max/ave\n",
              "0   ER             64             19       64\n",
              "1  HUR            229             59       59\n",
              "2  MIC            281             85      281\n",
              "3  ONT            244             86       86\n",
              "4  SUP            406            149      149"
            ]
          },
          "metadata": {
            "tags": []
          },
          "execution_count": 20
        }
      ]
    }
  ]
}