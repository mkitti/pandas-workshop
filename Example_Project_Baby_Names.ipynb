{
  "nbformat": 4,
  "nbformat_minor": 0,
  "metadata": {
    "colab": {
      "name": "Example Project - Baby Names.ipynb",
      "version": "0.3.2",
      "provenance": [],
      "toc_visible": true,
      "include_colab_link": true
    },
    "language_info": {
      "codemirror_mode": {
        "name": "ipython",
        "version": 3
      },
      "file_extension": ".py",
      "mimetype": "text/x-python",
      "name": "python",
      "nbconvert_exporter": "python",
      "pygments_lexer": "ipython3",
      "version": "3.7.3"
    },
    "kernelspec": {
      "display_name": "Python 3",
      "language": "python",
      "name": "python3"
    }
  },
  "cells": [
    {
      "cell_type": "markdown",
      "metadata": {
        "id": "view-in-github",
        "colab_type": "text"
      },
      "source": [
        "<a href=\"https://colab.research.google.com/github/mkitti/pandas-workshop/blob/master/Example_Project_Baby_Names.ipynb\" target=\"_parent\"><img src=\"https://colab.research.google.com/assets/colab-badge.svg\" alt=\"Open In Colab\"/></a>"
      ]
    },
    {
      "cell_type": "markdown",
      "metadata": {
        "id": "TJ1bXGCazri7",
        "colab_type": "text"
      },
      "source": [
        "## USA Baby Names 1880-2016\n",
        "\n",
        "The United States Social Security Administration maintains an interesting data set of (almost) all names given to babies born in the United States, by sex and year, going back to 1880. This data set is available at [https://www.ssa.gov/oact/babynames/limits.html](https://www.ssa.gov/oact/babynames/limits.html)\n",
        "\n",
        "This data set is interesting and fun to explore and we'll use it as the basis of a simple data analysis project with the end goal of creating a script that can be called to output a plot of a single name's popularity over time."
      ]
    },
    {
      "cell_type": "markdown",
      "metadata": {
        "id": "L1Tq5N-Mzri-",
        "colab_type": "text"
      },
      "source": [
        "This notebook has been modified to download and unzip the data automatically by Mark Kittisopikul on July 16th, 2019.\n"
      ]
    },
    {
      "cell_type": "code",
      "metadata": {
        "id": "PhC3xYGQzri_",
        "colab_type": "code",
        "colab": {}
      },
      "source": [
        "import platform # some of the subsequent code depends on operating system\n",
        "\n",
        "import pandas as pd\n",
        "import matplotlib.pyplot as plt\n",
        "import seaborn as sns"
      ],
      "execution_count": 0,
      "outputs": []
    },
    {
      "cell_type": "code",
      "metadata": {
        "id": "kX15EPXX6CSM",
        "colab_type": "code",
        "colab": {}
      },
      "source": [
        "# Imports to download and unzip names.zip\n",
        "# Added by Mark Kittisopikul, 2019/07/16\n",
        "import urllib.request as req\n",
        "import os\n",
        "import zipfile"
      ],
      "execution_count": 0,
      "outputs": []
    },
    {
      "cell_type": "code",
      "metadata": {
        "id": "_ZtBacE0zrjE",
        "colab_type": "code",
        "colab": {}
      },
      "source": [
        "# Set up some variables for use later\n",
        "dataset_path_windows = 'data\\\\names'   # Windows\n",
        "dataset_path_nix = './data/names'   # UNIX, Linux\n",
        "\n",
        "begin_year = 1880\n",
        "end_year = 2016"
      ],
      "execution_count": 0,
      "outputs": []
    },
    {
      "cell_type": "code",
      "metadata": {
        "id": "N--50d3ozrjH",
        "colab_type": "code",
        "outputId": "2f14e608-adf3-4612-9e6c-64ebce4fd38b",
        "colab": {
          "base_uri": "https://localhost:8080/",
          "height": 35
        }
      },
      "source": [
        "# The subsequent non-python commands depend on your operating system\n",
        "platform.system()  # show name of operating system"
      ],
      "execution_count": 4,
      "outputs": [
        {
          "output_type": "execute_result",
          "data": {
            "text/plain": [
              "'Linux'"
            ]
          },
          "metadata": {
            "tags": []
          },
          "execution_count": 4
        }
      ]
    },
    {
      "cell_type": "code",
      "metadata": {
        "id": "v0iAZi_CzrjK",
        "colab_type": "code",
        "colab": {}
      },
      "source": [
        "if platform.system()=='Windows':\n",
        "    dataset_path = dataset_path_windows\n",
        "else:\n",
        "    dataset_path = dataset_path_nix"
      ],
      "execution_count": 0,
      "outputs": []
    },
    {
      "cell_type": "code",
      "metadata": {
        "id": "Uf205tVZ7TNy",
        "colab_type": "code",
        "outputId": "d4f3bb8d-cb20-4778-e380-09979ab23641",
        "colab": {
          "base_uri": "https://localhost:8080/",
          "height": 35
        }
      },
      "source": [
        "os.path.join(dataset_path,'yob1880.txt')"
      ],
      "execution_count": 6,
      "outputs": [
        {
          "output_type": "execute_result",
          "data": {
            "text/plain": [
              "'./data/names/yob1880.txt'"
            ]
          },
          "metadata": {
            "tags": []
          },
          "execution_count": 6
        }
      ]
    },
    {
      "cell_type": "code",
      "metadata": {
        "id": "UO0E4Dk40pvz",
        "colab_type": "code",
        "outputId": "0f3c173f-6e36-46fc-8a41-e722aabb67eb",
        "colab": {
          "base_uri": "https://localhost:8080/",
          "height": 35
        }
      },
      "source": [
        "# Download and unzip file\n",
        "# Added by Mark Kittisopikul, 2019/07/16\n",
        "# Check to see if data files exist\n",
        "if not os.path.isfile(os.path.join(dataset_path,'yob1880.txt')):\n",
        "  # If not, try to make the directories\n",
        "  try:\n",
        "    os.makedirs(dataset_path)\n",
        "  except FileExistsError:\n",
        "    # They may already exist\n",
        "    pass\n",
        "  # Zip file has the same name as the directory\n",
        "  zipfile_path = dataset_path+'.zip'\n",
        "  # Download the zip file if it does not exist already\n",
        "  if not os.path.isfile(zipfile_path):\n",
        "    req.urlretrieve(\"https://github.com/nuitrcs/pandas-workshop/blob/master/data/names.zip?raw=true\", zipfile_path)\n",
        "  # Unzip the file\n",
        "  with zipfile.ZipFile(zipfile_path, 'r') as zip_ref:\n",
        "    zip_ref.extractall(dataset_path)\n",
        "else:\n",
        "  print('Data is good to go!')"
      ],
      "execution_count": 7,
      "outputs": [
        {
          "output_type": "stream",
          "text": [
            "Data is good to go!\n"
          ],
          "name": "stdout"
        }
      ]
    },
    {
      "cell_type": "markdown",
      "metadata": {
        "id": "kxqzGqHszrjO",
        "colab_type": "text"
      },
      "source": [
        "Let's first examine the data files to see what we're working with. Note the `type` command on Windows is equivalent to `cat` on MacOS or Linux."
      ]
    },
    {
      "cell_type": "code",
      "metadata": {
        "id": "75hYWJVUzrjO",
        "colab_type": "code",
        "outputId": "eed7a130-6d88-4cf9-aebd-b9bedad57835",
        "colab": {
          "base_uri": "https://localhost:8080/",
          "height": 503
        }
      },
      "source": [
        "# List files folder using the inbuilt commands of your operating system\n",
        "# jupyter notebooks can call the operating system by using the exclamation mark\n",
        "if platform.system()=='Windows':\n",
        "    !dir $dataset_path\n",
        "else:\n",
        "    !ls $dataset_path"
      ],
      "execution_count": 8,
      "outputs": [
        {
          "output_type": "stream",
          "text": [
            "NationalReadMe.pdf  yob1907.txt  yob1935.txt  yob1963.txt  yob1991.txt\n",
            "yob1880.txt\t    yob1908.txt  yob1936.txt  yob1964.txt  yob1992.txt\n",
            "yob1881.txt\t    yob1909.txt  yob1937.txt  yob1965.txt  yob1993.txt\n",
            "yob1882.txt\t    yob1910.txt  yob1938.txt  yob1966.txt  yob1994.txt\n",
            "yob1883.txt\t    yob1911.txt  yob1939.txt  yob1967.txt  yob1995.txt\n",
            "yob1884.txt\t    yob1912.txt  yob1940.txt  yob1968.txt  yob1996.txt\n",
            "yob1885.txt\t    yob1913.txt  yob1941.txt  yob1969.txt  yob1997.txt\n",
            "yob1886.txt\t    yob1914.txt  yob1942.txt  yob1970.txt  yob1998.txt\n",
            "yob1887.txt\t    yob1915.txt  yob1943.txt  yob1971.txt  yob1999.txt\n",
            "yob1888.txt\t    yob1916.txt  yob1944.txt  yob1972.txt  yob2000.txt\n",
            "yob1889.txt\t    yob1917.txt  yob1945.txt  yob1973.txt  yob2001.txt\n",
            "yob1890.txt\t    yob1918.txt  yob1946.txt  yob1974.txt  yob2002.txt\n",
            "yob1891.txt\t    yob1919.txt  yob1947.txt  yob1975.txt  yob2003.txt\n",
            "yob1892.txt\t    yob1920.txt  yob1948.txt  yob1976.txt  yob2004.txt\n",
            "yob1893.txt\t    yob1921.txt  yob1949.txt  yob1977.txt  yob2005.txt\n",
            "yob1894.txt\t    yob1922.txt  yob1950.txt  yob1978.txt  yob2006.txt\n",
            "yob1895.txt\t    yob1923.txt  yob1951.txt  yob1979.txt  yob2007.txt\n",
            "yob1896.txt\t    yob1924.txt  yob1952.txt  yob1980.txt  yob2008.txt\n",
            "yob1897.txt\t    yob1925.txt  yob1953.txt  yob1981.txt  yob2009.txt\n",
            "yob1898.txt\t    yob1926.txt  yob1954.txt  yob1982.txt  yob2010.txt\n",
            "yob1899.txt\t    yob1927.txt  yob1955.txt  yob1983.txt  yob2011.txt\n",
            "yob1900.txt\t    yob1928.txt  yob1956.txt  yob1984.txt  yob2012.txt\n",
            "yob1901.txt\t    yob1929.txt  yob1957.txt  yob1985.txt  yob2013.txt\n",
            "yob1902.txt\t    yob1930.txt  yob1958.txt  yob1986.txt  yob2014.txt\n",
            "yob1903.txt\t    yob1931.txt  yob1959.txt  yob1987.txt  yob2015.txt\n",
            "yob1904.txt\t    yob1932.txt  yob1960.txt  yob1988.txt  yob2016.txt\n",
            "yob1905.txt\t    yob1933.txt  yob1961.txt  yob1989.txt\n",
            "yob1906.txt\t    yob1934.txt  yob1962.txt  yob1990.txt\n"
          ],
          "name": "stdout"
        }
      ]
    },
    {
      "cell_type": "code",
      "metadata": {
        "id": "YDPA7q3SzrjR",
        "colab_type": "code",
        "outputId": "bf522598-3e54-4ea4-ebc2-c10b05591bf6",
        "colab": {
          "base_uri": "https://localhost:8080/",
          "height": 104
        }
      },
      "source": [
        "# Read a single file into a python variable and print out the first five lines\n",
        "if platform.system()=='Windows':\n",
        "    sample = !type $dataset_path\\\\yob1880.txt\n",
        "else:\n",
        "    sample = !cat $dataset_path/yob1880.txt\n",
        "\n",
        "sample[:5]"
      ],
      "execution_count": 9,
      "outputs": [
        {
          "output_type": "execute_result",
          "data": {
            "text/plain": [
              "['Mary,F,7065',\n",
              " 'Anna,F,2604',\n",
              " 'Emma,F,2003',\n",
              " 'Elizabeth,F,1939',\n",
              " 'Minnie,F,1746']"
            ]
          },
          "metadata": {
            "tags": []
          },
          "execution_count": 9
        }
      ]
    },
    {
      "cell_type": "markdown",
      "metadata": {
        "id": "ZfSjrqPGzrjT",
        "colab_type": "text"
      },
      "source": [
        "We will need a function to read in all of these files one by one and combine them into a single dataframe. Note that Pandas will correctly intepret the paths to the files, irrespectively of whether they were formulated in a Windows or Unix-based manner."
      ]
    },
    {
      "cell_type": "code",
      "metadata": {
        "id": "BGzwcH5czrjU",
        "colab_type": "code",
        "colab": {}
      },
      "source": [
        "def create_dataframe(begin_year, end_year):\n",
        "    columns = ('name', 'sex', 'births')\n",
        "    pieces = []\n",
        "    for year in range(begin_year, end_year + 1):\n",
        "        filename = '%s/yob%d.txt' % (dataset_path, year)\n",
        "        piece = pd.read_csv(filename, names=columns)\n",
        "        piece['year'] = year\n",
        "        pieces.append(piece)\n",
        "        \n",
        "    return pd.concat(pieces, ignore_index=True)"
      ],
      "execution_count": 0,
      "outputs": []
    },
    {
      "cell_type": "code",
      "metadata": {
        "id": "mbo6SvT4zrjW",
        "colab_type": "code",
        "outputId": "bf88c3b9-3003-488d-9a1f-ef5fe76fbda5",
        "colab": {
          "base_uri": "https://localhost:8080/",
          "height": 202
        }
      },
      "source": [
        "# Now call our new function to get the dataset loaded into a Dataframe.\n",
        "df = create_dataframe(begin_year, end_year)\n",
        "df.head()"
      ],
      "execution_count": 11,
      "outputs": [
        {
          "output_type": "execute_result",
          "data": {
            "text/html": [
              "<div>\n",
              "<style scoped>\n",
              "    .dataframe tbody tr th:only-of-type {\n",
              "        vertical-align: middle;\n",
              "    }\n",
              "\n",
              "    .dataframe tbody tr th {\n",
              "        vertical-align: top;\n",
              "    }\n",
              "\n",
              "    .dataframe thead th {\n",
              "        text-align: right;\n",
              "    }\n",
              "</style>\n",
              "<table border=\"1\" class=\"dataframe\">\n",
              "  <thead>\n",
              "    <tr style=\"text-align: right;\">\n",
              "      <th></th>\n",
              "      <th>name</th>\n",
              "      <th>sex</th>\n",
              "      <th>births</th>\n",
              "      <th>year</th>\n",
              "    </tr>\n",
              "  </thead>\n",
              "  <tbody>\n",
              "    <tr>\n",
              "      <th>0</th>\n",
              "      <td>Mary</td>\n",
              "      <td>F</td>\n",
              "      <td>7065</td>\n",
              "      <td>1880</td>\n",
              "    </tr>\n",
              "    <tr>\n",
              "      <th>1</th>\n",
              "      <td>Anna</td>\n",
              "      <td>F</td>\n",
              "      <td>2604</td>\n",
              "      <td>1880</td>\n",
              "    </tr>\n",
              "    <tr>\n",
              "      <th>2</th>\n",
              "      <td>Emma</td>\n",
              "      <td>F</td>\n",
              "      <td>2003</td>\n",
              "      <td>1880</td>\n",
              "    </tr>\n",
              "    <tr>\n",
              "      <th>3</th>\n",
              "      <td>Elizabeth</td>\n",
              "      <td>F</td>\n",
              "      <td>1939</td>\n",
              "      <td>1880</td>\n",
              "    </tr>\n",
              "    <tr>\n",
              "      <th>4</th>\n",
              "      <td>Minnie</td>\n",
              "      <td>F</td>\n",
              "      <td>1746</td>\n",
              "      <td>1880</td>\n",
              "    </tr>\n",
              "  </tbody>\n",
              "</table>\n",
              "</div>"
            ],
            "text/plain": [
              "        name sex  births  year\n",
              "0       Mary   F    7065  1880\n",
              "1       Anna   F    2604  1880\n",
              "2       Emma   F    2003  1880\n",
              "3  Elizabeth   F    1939  1880\n",
              "4     Minnie   F    1746  1880"
            ]
          },
          "metadata": {
            "tags": []
          },
          "execution_count": 11
        }
      ]
    },
    {
      "cell_type": "markdown",
      "metadata": {
        "id": "zZCxw6Wqzrje",
        "colab_type": "text"
      },
      "source": [
        "Now lets explore this data a little, first, how many records do we have?"
      ]
    },
    {
      "cell_type": "code",
      "metadata": {
        "id": "OSamxT8mzrjf",
        "colab_type": "code",
        "colab": {}
      },
      "source": [
        ""
      ],
      "execution_count": 0,
      "outputs": []
    },
    {
      "cell_type": "markdown",
      "metadata": {
        "id": "LYpjkps9zrjh",
        "colab_type": "text"
      },
      "source": [
        "Now lets look at a specific name, lets make a new dataframe that includes only your name and look at the first 5 rows"
      ]
    },
    {
      "cell_type": "code",
      "metadata": {
        "scrolled": true,
        "id": "qZ_L8JaEzrji",
        "colab_type": "code",
        "colab": {}
      },
      "source": [
        ""
      ],
      "execution_count": 0,
      "outputs": []
    },
    {
      "cell_type": "markdown",
      "metadata": {
        "id": "Bthf5zuXzrjk",
        "colab_type": "text"
      },
      "source": [
        "Lets now look at some stats for your name"
      ]
    },
    {
      "cell_type": "code",
      "metadata": {
        "id": "LAqUkDsUzrjl",
        "colab_type": "code",
        "colab": {}
      },
      "source": [
        ""
      ],
      "execution_count": 0,
      "outputs": []
    },
    {
      "cell_type": "markdown",
      "metadata": {
        "id": "tZ_6XRiizrjn",
        "colab_type": "text"
      },
      "source": [
        "When was your name at peak popularity?"
      ]
    },
    {
      "cell_type": "code",
      "metadata": {
        "id": "zui7yz4Ezrjo",
        "colab_type": "code",
        "colab": {}
      },
      "source": [
        ""
      ],
      "execution_count": 0,
      "outputs": []
    },
    {
      "cell_type": "markdown",
      "metadata": {
        "id": "meDwr2Mrzrjp",
        "colab_type": "text"
      },
      "source": [
        "How can we convert the raw birth numbers into percent of births that year? Lets make a new column for that"
      ]
    },
    {
      "cell_type": "code",
      "metadata": {
        "id": "Tn8Kc-yvzrjq",
        "colab_type": "code",
        "colab": {}
      },
      "source": [
        ""
      ],
      "execution_count": 0,
      "outputs": []
    },
    {
      "cell_type": "markdown",
      "metadata": {
        "id": "DP3a7bR6zrjs",
        "colab_type": "text"
      },
      "source": [
        "Wow, some of these percentages are really small, why dont we change it to number of births of a given name per million births that year"
      ]
    },
    {
      "cell_type": "code",
      "metadata": {
        "id": "1-YNS4bczrjt",
        "colab_type": "code",
        "colab": {}
      },
      "source": [
        ""
      ],
      "execution_count": 0,
      "outputs": []
    },
    {
      "cell_type": "markdown",
      "metadata": {
        "id": "JAxjmM7rzrjv",
        "colab_type": "text"
      },
      "source": [
        "Why dont we make a graph of how common your name is over the years"
      ]
    },
    {
      "cell_type": "code",
      "metadata": {
        "id": "-jIJ8RtIzrjw",
        "colab_type": "code",
        "colab": {}
      },
      "source": [
        ""
      ],
      "execution_count": 0,
      "outputs": []
    },
    {
      "cell_type": "markdown",
      "metadata": {
        "id": "ZAPdcDe2zrjy",
        "colab_type": "text"
      },
      "source": [
        "If your name is like mine, there is actually a bunch of shading indicating variance, why would that be?\n",
        "\n",
        "\n",
        "Its because this data is also split on gender, so there is a chance to have the name listed twice because of gender. The gender split could be interesting though, so lets look at it graphically"
      ]
    },
    {
      "cell_type": "code",
      "metadata": {
        "id": "JmGgLSrXzrjz",
        "colab_type": "code",
        "colab": {}
      },
      "source": [
        ""
      ],
      "execution_count": 0,
      "outputs": []
    },
    {
      "cell_type": "markdown",
      "metadata": {
        "id": "Qp4_P7ZYzrj1",
        "colab_type": "text"
      },
      "source": [
        "There is a actually a really good breakdown of different name trends by Tim Urban at https://waitbutwhy.com/2013/12/how-to-name-baby.html\n",
        "\n",
        "so lets look quickly at a couple of the interesting trends he found with our code"
      ]
    },
    {
      "cell_type": "markdown",
      "metadata": {
        "id": "fAXO_Ijtzrj3",
        "colab_type": "text"
      },
      "source": [
        "### Name Fads\n",
        "\n",
        "A name fad is when a specific name gets really popular for a specific generation, causing a person's age to be reasonable guessed based on their name alone.\n",
        "\n",
        "Check out Jennifer, Ashley, or Shirley for some examples"
      ]
    },
    {
      "cell_type": "code",
      "metadata": {
        "id": "c4DyuzJVzrj3",
        "colab_type": "code",
        "colab": {}
      },
      "source": [
        ""
      ],
      "execution_count": 0,
      "outputs": []
    },
    {
      "cell_type": "markdown",
      "metadata": {
        "id": "Fr7U9HgEzrj7",
        "colab_type": "text"
      },
      "source": [
        "### Gender Takeovers\n",
        "\n",
        "Sometimes a name that is uncommon but solely one gender becomes extremely popular for the other gender, to the point that the original gender stops using it\n",
        "\n",
        "Check out Lynn or Aubrey"
      ]
    },
    {
      "cell_type": "code",
      "metadata": {
        "id": "oa95SiWizrj8",
        "colab_type": "code",
        "colab": {}
      },
      "source": [
        ""
      ],
      "execution_count": 0,
      "outputs": []
    }
  ]
}